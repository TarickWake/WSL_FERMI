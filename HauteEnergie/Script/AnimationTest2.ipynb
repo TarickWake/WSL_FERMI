{
 "cells": [
  {
   "cell_type": "code",
   "execution_count": null,
   "metadata": {},
   "outputs": [],
   "source": [
    "from ClementAnalyse import *"
   ]
  },
  {
   "cell_type": "code",
   "execution_count": null,
   "metadata": {},
   "outputs": [],
   "source": [
    "w15 = GammaFits(\"HauteEnergie/Data/source_observation/lat_photon_weekly_w015_p305_v001.fits\")\n",
    "w15.make_all_slice(200)\n",
    "w15.plot_all_slice_hist(vmin=0, vmax=5,show=False)\n",
    "print(\"DONE\")"
   ]
  },
  {
   "cell_type": "code",
   "execution_count": null,
   "metadata": {},
   "outputs": [],
   "source": [
    "plt.hist2d(w15.L_cut,w15.B_cut,bins=[360, 180])"
   ]
  },
  {
   "cell_type": "code",
   "execution_count": null,
   "metadata": {},
   "outputs": [],
   "source": [
    "H,xe,ye=np.histogram2d(w15.L_cut,w15.B_cut,bins=[360, 180])"
   ]
  },
  {
   "cell_type": "code",
   "execution_count": null,
   "metadata": {},
   "outputs": [],
   "source": [
    "Xe,Ye=np.meshgrid(xe,ye)"
   ]
  },
  {
   "cell_type": "code",
   "execution_count": null,
   "metadata": {},
   "outputs": [],
   "source": [
    "plt.pcolormesh(Xe,Ye,H.T)"
   ]
  },
  {
   "cell_type": "code",
   "execution_count": null,
   "metadata": {},
   "outputs": [],
   "source": [
    "plt.hist2d(w15.L_cut,w15.B_cut,bins=[360, 180])"
   ]
  },
  {
   "cell_type": "code",
   "execution_count": null,
   "metadata": {},
   "outputs": [],
   "source": [
    "plt.close(\"all\")"
   ]
  },
  {
   "cell_type": "code",
   "execution_count": null,
   "metadata": {},
   "outputs": [],
   "source": [
    "X, Y = np.meshgrid(w15.xedges_tot, w15.yedges_tot)"
   ]
  },
  {
   "cell_type": "code",
   "execution_count": null,
   "metadata": {},
   "outputs": [],
   "source": [
    "C =np.atleast_2d(w15.all_counts[:,:,:]) \n",
    "C[0]==w15.all_counts[:,:,:].T"
   ]
  },
  {
   "cell_type": "code",
   "execution_count": null,
   "metadata": {},
   "outputs": [],
   "source": [
    "np.transpose(w15.all_counts[:,:,:],axes=()).shape"
   ]
  },
  {
   "cell_type": "code",
   "execution_count": null,
   "metadata": {},
   "outputs": [],
   "source": [
    "C.shape"
   ]
  },
  {
   "cell_type": "code",
   "execution_count": null,
   "metadata": {},
   "outputs": [],
   "source": [
    "def sumslide(Fits:GammaFits,start,stop,operation=np.sum):\n",
    "    res=operation(w15.all_counts[:,:,start:stop],axis=2)\n",
    "    return res\n",
    "def sumplot(Fits,n,stop,operation=np.sum):\n",
    "    for i in range(0,stop,n):\n",
    "        plt.pcolormesh(X,Y,(sumslide(Fits,i,i+n,operation=operation).T))\n",
    "        plt.title(f\"T: {i}->{i+n}\")\n",
    "        plt.show()\n",
    "\n",
    "sumplot(w15,10,100,operation=np.sum)"
   ]
  },
  {
   "cell_type": "code",
   "execution_count": null,
   "metadata": {},
   "outputs": [],
   "source": [
    "w15.all_counts[:,:,0].shape"
   ]
  }
 ],
 "metadata": {
  "language_info": {
   "name": "python"
  },
  "orig_nbformat": 4
 },
 "nbformat": 4,
 "nbformat_minor": 2
}
