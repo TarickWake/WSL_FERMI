{
 "cells": [
  {
   "attachments": {},
   "cell_type": "markdown",
   "metadata": {},
   "source": [
    "# Example Fonctionelle d'annimation pour la semaine 749"
   ]
  },
  {
   "cell_type": "code",
   "execution_count": 17,
   "metadata": {},
   "outputs": [],
   "source": [
    "from ClementAnalyse_animation_work import *\n",
    "import numpy as np\n",
    "import matplotlib.pyplot as plt\n",
    "from matplotlib.animation import FuncAnimation\n",
    "import cmasher as cmr\n",
    "def animate_data(\n",
    "    test,\n",
    "    xedge_setting,\n",
    "    yedge_setting,\n",
    "    step=20000,\n",
    "    cmap=cmr.cosmic,\n",
    "    vmax=25,\n",
    "    vmin=0,\n",
    "    begin=0,\n",
    "    fps= 2\n",
    "    ):\n",
    "    interval = 1000/fps\n",
    "    # Define the initial values\n",
    "    begin = begin\n",
    "    end = begin + step\n",
    "    bins = (xedge_setting, yedge_setting)\n",
    "    all_counts = []\n",
    "\n",
    "    # Define the figure and axis objects\n",
    "    fig, ax = plt.subplots()\n",
    "    cbar = None\n",
    "\n",
    "    # Define the update function that will be called for each frame of the animation\n",
    "    def update(frame):\n",
    "        nonlocal cbar, all_counts, begin, end\n",
    "        if cbar is not None:\n",
    "            cbar.remove()\n",
    "\n",
    "        # Extract the slice of the data for this frame\n",
    "        begin = frame * step\n",
    "        end = begin + step\n",
    "        slice = test[(test.TIME > begin) & (test.TIME < end)]\n",
    "\n",
    "        # Compute the histogram for this slice\n",
    "        count, _, _ = np.histogram2d(slice.L_cut, slice.B_cut, bins=bins)\n",
    "\n",
    "        # Add the counts to the list of all counts\n",
    "        all_counts.append(count)\n",
    "\n",
    "        # Plot the current frame\n",
    "        ax.clear()\n",
    "        pcm = ax.imshow(all_counts[frame].T, extent=[xedge_setting[0], xedge_setting[-1], yedge_setting[0], yedge_setting[-1]],\n",
    "                        origin='lower', cmap=cmap, vmax=vmax,vmin=vmin, interpolation='antialiased', aspect='equal')\n",
    "        ax.set_title(f'Time : {np.round(slice.TIME.min()/3600)}H -> {np.round((slice.TIME.max()/3600))} H')\n",
    "\n",
    "        # Add a colorbar to the plot\n",
    "        cbar = fig.colorbar(pcm)\n",
    "\n",
    "    # Create the animation object and start the animation\n",
    "    num_frames = int(test.TIME.max()+1)//step\n",
    "    ani = FuncAnimation(fig, update, frames=num_frames, interval=interval)\n",
    "    plt.show()\n",
    "    return ani"
   ]
  },
  {
   "cell_type": "code",
   "execution_count": 18,
   "metadata": {},
   "outputs": [],
   "source": [
    "%matplotlib qt"
   ]
  },
  {
   "cell_type": "code",
   "execution_count": 19,
   "metadata": {},
   "outputs": [
    {
     "name": "stderr",
     "output_type": "stream",
     "text": [
      "100%|██████████| 791835/791835 [00:00<00:00, 4760309.75it/s]\n",
      "100%|██████████| 301531/301531 [00:00<00:00, 4267674.99it/s]\n"
     ]
    }
   ],
   "source": [
    "w749_path = \"HauteEnergie/Data/source_observation/lat_photon_weekly_w749_p305_v001.fits\" #Chemin du fichier FITS\n",
    "data = GammaFitsPandas(w749_path)\n",
    "week = data.events\n",
    "data.keep_bin_edge\n",
    "xedge_setting = data.xedges_tot\n",
    "yedge_setting = data.yedges_tot\n",
    "plt.close('all')"
   ]
  },
  {
   "cell_type": "code",
   "execution_count": 23,
   "metadata": {},
   "outputs": [
    {
     "data": {
      "text/plain": [
       "<matplotlib.animation.FuncAnimation at 0x7fc5f3cfacd0>"
      ]
     },
     "execution_count": 23,
     "metadata": {},
     "output_type": "execute_result"
    }
   ],
   "source": [
    "animate_data(week,xedge_setting,yedge_setting,step=12*3600,vmax=50,vmin=-1,begin=0,fps=10)"
   ]
  },
  {
   "cell_type": "code",
   "execution_count": null,
   "metadata": {},
   "outputs": [],
   "source": []
  }
 ],
 "metadata": {
  "kernelspec": {
   "display_name": "fermi",
   "language": "python",
   "name": "python3"
  },
  "language_info": {
   "codemirror_mode": {
    "name": "ipython",
    "version": 3
   },
   "file_extension": ".py",
   "mimetype": "text/x-python",
   "name": "python",
   "nbconvert_exporter": "python",
   "pygments_lexer": "ipython3",
   "version": "3.9.16"
  },
  "orig_nbformat": 4
 },
 "nbformat": 4,
 "nbformat_minor": 2
}
